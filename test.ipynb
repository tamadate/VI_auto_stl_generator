{
 "cells": [
  {
   "cell_type": "code",
   "execution_count": 24,
   "metadata": {},
   "outputs": [],
   "source": [
    "import numpy as np\n",
    "faceName=[\"inlet\"]\n",
    "fout=open(\"OpenFOAM/system/meshDict\",\"w\")\n",
    "with open(\"Base/meshDict\") as f:\n",
    "    lines = [line.rstrip('\\n') for line in f]\n",
    "    for line in lines:\n",
    "        if(line==\"###\"):\n",
    "            fout.write(\"{\\n\\tnewPatchNames\\n\\t{\\n\")\n",
    "            for fn in faceName:\n",
    "                fout.write(\"\\t\\t\"+fn+\"\\n\\t\\t{\\n\\t\\t\\tnewName \"+fn+\";\\n\\t\\t\\ttype patch;\\n\")\n",
    "            fout.write(\"\\t\\t}\\n\\t}\\n}\")\n",
    "        else:\n",
    "            fout.write(line+\"\\n\")\n",
    "\n",
    "\n"
   ]
  },
  {
   "cell_type": "code",
   "execution_count": null,
   "metadata": {},
   "outputs": [],
   "source": []
  }
 ],
 "metadata": {
  "kernelspec": {
   "display_name": "Python 3",
   "language": "python",
   "name": "python3"
  },
  "language_info": {
   "codemirror_mode": {
    "name": "ipython",
    "version": 3
   },
   "file_extension": ".py",
   "mimetype": "text/x-python",
   "name": "python",
   "nbconvert_exporter": "python",
   "pygments_lexer": "ipython3",
   "version": "3.8.10"
  },
  "orig_nbformat": 4
 },
 "nbformat": 4,
 "nbformat_minor": 2
}
